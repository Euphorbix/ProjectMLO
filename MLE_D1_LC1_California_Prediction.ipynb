{
 "cells": [
  {
   "cell_type": "markdown",
   "id": "82d9f0e1-496a-468f-a64e-2ab022355aaf",
   "metadata": {
    "id": "82d9f0e1-496a-468f-a64e-2ab022355aaf",
    "tags": [
     "headers"
    ]
   },
   "source": [
    "<a id='Q0'></a>\n",
    "<center><a target=\"_blank\" href=\"http://www.propulsion.academy\"><img src=\"https://drive.google.com/uc?id=1z0U84GYqhbWWpCenFajh8_8XFRGyOc3U\" width=\"200\" style=\"background:none; border:none; box-shadow:none;\" /></a> </center>\n",
    "<center> <h1> Live Coding 1: Simple Prediction Notebook</h1> </center>\n",
    "<p style=\"margin-bottom:1cm;\"></p>\n",
    "<center><h4>Propulsion Academy, 2022</h4></center>\n",
    "<p style=\"margin-bottom:1cm;\"></p>\n",
    "\n",
    "<div style=\"background:#EEEDF5;border-top:0.1cm solid #EF475B;border-bottom:0.1cm solid #EF475B;\">\n",
    "    <div style=\"margin-left: 0.5cm;margin-top: 0.5cm;margin-bottom: 0.5cm;color:#303030\">\n",
    "        <p><strong>Goal:</strong> Revision on a simple prediction model using Scikit Learn</p>\n",
    "        <strong> Outline:</strong>\n",
    "        <a id='P0' name=\"P0\"></a>\n",
    "        <ol>\n",
    "            <li> <a style=\"color:#303030\" href='#SU'>Set up</a></li>\n",
    "            <li> <a style=\"color:#303030\" href='#P1'>Data Exploration and Cleaning</a></li>\n",
    "            <li> <a style=\"color:#303030\" href='#P2'>Modeling</a></li>\n",
    "            <li> <a style=\"color:#303030\" href='#P3'>Model Evaluation</a></li>\n",
    "            <li> <a style=\"color:#303030\" href='#CL'>Conclusion</a></li>\n",
    "        </ol>\n",
    "        <strong>Topics Trained:</strong> Notebook Layout, Data Cleaning, Modelling and Model Evaluation\n",
    "    </div>\n",
    "</div>\n",
    "\n",
    "<nav style=\"text-align:right\"><strong>\n",
    "        <a style=\"color:#00BAE5\" href=\"https://monolith.propulsion-home.ch/backend/api/momentum/materials/ds-materials/07_MLEngineering/index.html\" title=\"momentum\"> Module 7, Machine Learning Engineering </a>|\n",
    "        <a style=\"color:#00BAE5\" href=\"https://monolith.propulsion-home.ch/backend/api/momentum/materials/ds-materials/07_MLEngineering/day1/index.html\" title=\"momentum\">Day 1, Data Science Project Development </a>|\n",
    "        <a style=\"color:#00BAE5\" href=\"https://drive.google.com/file/d/1SOCQu9Gv3jNNXxvJSszBC3fYNsM0df2F/view?usp=sharing\" title=\"momentum\"> Live Coding 1, Simple Prediction Notebook</a>\n",
    "</strong></nav>"
   ]
  },
  {
   "cell_type": "markdown",
   "id": "6c35903c-1dc5-4806-83d8-d8e1bc53ebc9",
   "metadata": {
    "id": "6c35903c-1dc5-4806-83d8-d8e1bc53ebc9"
   },
   "source": [
    "<a id='I' name=\"I\"></a>\n",
    "## [Introduction](#P0)"
   ]
  },
  {
   "cell_type": "markdown",
   "id": "493e3e1f-7939-4cbb-ad23-3e2313dc7170",
   "metadata": {
    "id": "493e3e1f-7939-4cbb-ad23-3e2313dc7170"
   },
   "source": [
    "This Notebook is a minimal example of a regression experiment on the California Housing Dataset. It is inspired from the exercise from day 2 of the [Machine Learning Module](https://monolith.propulsion-home.ch/backend/api/momentum/materials/ds-materials/04_MachineLearning/day2/pages/07_exercises.html).\n",
    "\n",
    "The modeling and data cleaning are very simple, so that you can focus on MLOps concepts"
   ]
  },
  {
   "cell_type": "markdown",
   "id": "e002456c-2c86-4d93-aaa8-41d10ee8100e",
   "metadata": {
    "id": "e002456c-2c86-4d93-aaa8-41d10ee8100e"
   },
   "source": [
    "<a id='SU' name=\"SU\"></a>\n",
    "## [Set up](#P0)"
   ]
  },
  {
   "cell_type": "markdown",
   "id": "3e2094b1-e612-4550-a1a3-f64eb28fa5ae",
   "metadata": {
    "id": "3e2094b1-e612-4550-a1a3-f64eb28fa5ae"
   },
   "source": [
    "### Packages"
   ]
  },
  {
   "cell_type": "code",
   "execution_count": 1,
   "id": "20e6e229-1ab0-4110-b85f-f85798d402fe",
   "metadata": {
    "id": "20e6e229-1ab0-4110-b85f-f85798d402fe"
   },
   "outputs": [],
   "source": [
    "import numpy as np\n",
    "import pandas as pd\n",
    "\n",
    "from sklearn.model_selection import train_test_split\n",
    "from sklearn.preprocessing import StandardScaler\n",
    "from sklearn.linear_model import LinearRegression\n",
    "from sklearn import metrics\n",
    "from sklearn.pipeline import Pipeline"
   ]
  },
  {
   "cell_type": "markdown",
   "id": "6b0600bc-e3a1-4458-8edd-dfdd337a55b2",
   "metadata": {
    "id": "6b0600bc-e3a1-4458-8edd-dfdd337a55b2"
   },
   "source": [
    "### User Dependent Variables"
   ]
  },
  {
   "cell_type": "code",
   "execution_count": 4,
   "id": "66dba760-d447-4228-9f87-ea949c061fb8",
   "metadata": {
    "id": "66dba760-d447-4228-9f87-ea949c061fb8"
   },
   "outputs": [],
   "source": [
    "data_path = \"../data/raw/california_housing_0.csv\""
   ]
  },
  {
   "cell_type": "markdown",
   "id": "1b7e41bd-89c3-426f-85b3-eecda31cbf30",
   "metadata": {
    "id": "1b7e41bd-89c3-426f-85b3-eecda31cbf30"
   },
   "source": [
    "<a id='P1'></a>\n",
    "## [Data Preparation](#P0)"
   ]
  },
  {
   "cell_type": "code",
   "execution_count": 5,
   "id": "9c4ce496-5b18-4e97-a6ea-71148988f693",
   "metadata": {
    "id": "9c4ce496-5b18-4e97-a6ea-71148988f693"
   },
   "outputs": [
    {
     "ename": "FileNotFoundError",
     "evalue": "[Errno 2] No such file or directory: '../data/raw/california_housing_0.csv'",
     "output_type": "error",
     "traceback": [
      "\u001b[1;31m---------------------------------------------------------------------------\u001b[0m",
      "\u001b[1;31mFileNotFoundError\u001b[0m                         Traceback (most recent call last)",
      "Input \u001b[1;32mIn [5]\u001b[0m, in \u001b[0;36m<cell line: 1>\u001b[1;34m()\u001b[0m\n\u001b[1;32m----> 1\u001b[0m data \u001b[38;5;241m=\u001b[39m \u001b[43mpd\u001b[49m\u001b[38;5;241;43m.\u001b[39;49m\u001b[43mread_csv\u001b[49m\u001b[43m(\u001b[49m\u001b[43mdata_path\u001b[49m\u001b[43m)\u001b[49m\n",
      "File \u001b[1;32m~\\anaconda3\\envs\\MLOps-dev\\lib\\site-packages\\pandas\\util\\_decorators.py:311\u001b[0m, in \u001b[0;36mdeprecate_nonkeyword_arguments.<locals>.decorate.<locals>.wrapper\u001b[1;34m(*args, **kwargs)\u001b[0m\n\u001b[0;32m    305\u001b[0m \u001b[38;5;28;01mif\u001b[39;00m \u001b[38;5;28mlen\u001b[39m(args) \u001b[38;5;241m>\u001b[39m num_allow_args:\n\u001b[0;32m    306\u001b[0m     warnings\u001b[38;5;241m.\u001b[39mwarn(\n\u001b[0;32m    307\u001b[0m         msg\u001b[38;5;241m.\u001b[39mformat(arguments\u001b[38;5;241m=\u001b[39marguments),\n\u001b[0;32m    308\u001b[0m         \u001b[38;5;167;01mFutureWarning\u001b[39;00m,\n\u001b[0;32m    309\u001b[0m         stacklevel\u001b[38;5;241m=\u001b[39mstacklevel,\n\u001b[0;32m    310\u001b[0m     )\n\u001b[1;32m--> 311\u001b[0m \u001b[38;5;28;01mreturn\u001b[39;00m func(\u001b[38;5;241m*\u001b[39margs, \u001b[38;5;241m*\u001b[39m\u001b[38;5;241m*\u001b[39mkwargs)\n",
      "File \u001b[1;32m~\\anaconda3\\envs\\MLOps-dev\\lib\\site-packages\\pandas\\io\\parsers\\readers.py:680\u001b[0m, in \u001b[0;36mread_csv\u001b[1;34m(filepath_or_buffer, sep, delimiter, header, names, index_col, usecols, squeeze, prefix, mangle_dupe_cols, dtype, engine, converters, true_values, false_values, skipinitialspace, skiprows, skipfooter, nrows, na_values, keep_default_na, na_filter, verbose, skip_blank_lines, parse_dates, infer_datetime_format, keep_date_col, date_parser, dayfirst, cache_dates, iterator, chunksize, compression, thousands, decimal, lineterminator, quotechar, quoting, doublequote, escapechar, comment, encoding, encoding_errors, dialect, error_bad_lines, warn_bad_lines, on_bad_lines, delim_whitespace, low_memory, memory_map, float_precision, storage_options)\u001b[0m\n\u001b[0;32m    665\u001b[0m kwds_defaults \u001b[38;5;241m=\u001b[39m _refine_defaults_read(\n\u001b[0;32m    666\u001b[0m     dialect,\n\u001b[0;32m    667\u001b[0m     delimiter,\n\u001b[1;32m   (...)\u001b[0m\n\u001b[0;32m    676\u001b[0m     defaults\u001b[38;5;241m=\u001b[39m{\u001b[38;5;124m\"\u001b[39m\u001b[38;5;124mdelimiter\u001b[39m\u001b[38;5;124m\"\u001b[39m: \u001b[38;5;124m\"\u001b[39m\u001b[38;5;124m,\u001b[39m\u001b[38;5;124m\"\u001b[39m},\n\u001b[0;32m    677\u001b[0m )\n\u001b[0;32m    678\u001b[0m kwds\u001b[38;5;241m.\u001b[39mupdate(kwds_defaults)\n\u001b[1;32m--> 680\u001b[0m \u001b[38;5;28;01mreturn\u001b[39;00m \u001b[43m_read\u001b[49m\u001b[43m(\u001b[49m\u001b[43mfilepath_or_buffer\u001b[49m\u001b[43m,\u001b[49m\u001b[43m \u001b[49m\u001b[43mkwds\u001b[49m\u001b[43m)\u001b[49m\n",
      "File \u001b[1;32m~\\anaconda3\\envs\\MLOps-dev\\lib\\site-packages\\pandas\\io\\parsers\\readers.py:575\u001b[0m, in \u001b[0;36m_read\u001b[1;34m(filepath_or_buffer, kwds)\u001b[0m\n\u001b[0;32m    572\u001b[0m _validate_names(kwds\u001b[38;5;241m.\u001b[39mget(\u001b[38;5;124m\"\u001b[39m\u001b[38;5;124mnames\u001b[39m\u001b[38;5;124m\"\u001b[39m, \u001b[38;5;28;01mNone\u001b[39;00m))\n\u001b[0;32m    574\u001b[0m \u001b[38;5;66;03m# Create the parser.\u001b[39;00m\n\u001b[1;32m--> 575\u001b[0m parser \u001b[38;5;241m=\u001b[39m TextFileReader(filepath_or_buffer, \u001b[38;5;241m*\u001b[39m\u001b[38;5;241m*\u001b[39mkwds)\n\u001b[0;32m    577\u001b[0m \u001b[38;5;28;01mif\u001b[39;00m chunksize \u001b[38;5;129;01mor\u001b[39;00m iterator:\n\u001b[0;32m    578\u001b[0m     \u001b[38;5;28;01mreturn\u001b[39;00m parser\n",
      "File \u001b[1;32m~\\anaconda3\\envs\\MLOps-dev\\lib\\site-packages\\pandas\\io\\parsers\\readers.py:934\u001b[0m, in \u001b[0;36mTextFileReader.__init__\u001b[1;34m(self, f, engine, **kwds)\u001b[0m\n\u001b[0;32m    931\u001b[0m     \u001b[38;5;28mself\u001b[39m\u001b[38;5;241m.\u001b[39moptions[\u001b[38;5;124m\"\u001b[39m\u001b[38;5;124mhas_index_names\u001b[39m\u001b[38;5;124m\"\u001b[39m] \u001b[38;5;241m=\u001b[39m kwds[\u001b[38;5;124m\"\u001b[39m\u001b[38;5;124mhas_index_names\u001b[39m\u001b[38;5;124m\"\u001b[39m]\n\u001b[0;32m    933\u001b[0m \u001b[38;5;28mself\u001b[39m\u001b[38;5;241m.\u001b[39mhandles: IOHandles \u001b[38;5;241m|\u001b[39m \u001b[38;5;28;01mNone\u001b[39;00m \u001b[38;5;241m=\u001b[39m \u001b[38;5;28;01mNone\u001b[39;00m\n\u001b[1;32m--> 934\u001b[0m \u001b[38;5;28mself\u001b[39m\u001b[38;5;241m.\u001b[39m_engine \u001b[38;5;241m=\u001b[39m \u001b[38;5;28;43mself\u001b[39;49m\u001b[38;5;241;43m.\u001b[39;49m\u001b[43m_make_engine\u001b[49m\u001b[43m(\u001b[49m\u001b[43mf\u001b[49m\u001b[43m,\u001b[49m\u001b[43m \u001b[49m\u001b[38;5;28;43mself\u001b[39;49m\u001b[38;5;241;43m.\u001b[39;49m\u001b[43mengine\u001b[49m\u001b[43m)\u001b[49m\n",
      "File \u001b[1;32m~\\anaconda3\\envs\\MLOps-dev\\lib\\site-packages\\pandas\\io\\parsers\\readers.py:1218\u001b[0m, in \u001b[0;36mTextFileReader._make_engine\u001b[1;34m(self, f, engine)\u001b[0m\n\u001b[0;32m   1214\u001b[0m     mode \u001b[38;5;241m=\u001b[39m \u001b[38;5;124m\"\u001b[39m\u001b[38;5;124mrb\u001b[39m\u001b[38;5;124m\"\u001b[39m\n\u001b[0;32m   1215\u001b[0m \u001b[38;5;66;03m# error: No overload variant of \"get_handle\" matches argument types\u001b[39;00m\n\u001b[0;32m   1216\u001b[0m \u001b[38;5;66;03m# \"Union[str, PathLike[str], ReadCsvBuffer[bytes], ReadCsvBuffer[str]]\"\u001b[39;00m\n\u001b[0;32m   1217\u001b[0m \u001b[38;5;66;03m# , \"str\", \"bool\", \"Any\", \"Any\", \"Any\", \"Any\", \"Any\"\u001b[39;00m\n\u001b[1;32m-> 1218\u001b[0m \u001b[38;5;28mself\u001b[39m\u001b[38;5;241m.\u001b[39mhandles \u001b[38;5;241m=\u001b[39m \u001b[43mget_handle\u001b[49m\u001b[43m(\u001b[49m\u001b[43m  \u001b[49m\u001b[38;5;66;43;03m# type: ignore[call-overload]\u001b[39;49;00m\n\u001b[0;32m   1219\u001b[0m \u001b[43m    \u001b[49m\u001b[43mf\u001b[49m\u001b[43m,\u001b[49m\n\u001b[0;32m   1220\u001b[0m \u001b[43m    \u001b[49m\u001b[43mmode\u001b[49m\u001b[43m,\u001b[49m\n\u001b[0;32m   1221\u001b[0m \u001b[43m    \u001b[49m\u001b[43mencoding\u001b[49m\u001b[38;5;241;43m=\u001b[39;49m\u001b[38;5;28;43mself\u001b[39;49m\u001b[38;5;241;43m.\u001b[39;49m\u001b[43moptions\u001b[49m\u001b[38;5;241;43m.\u001b[39;49m\u001b[43mget\u001b[49m\u001b[43m(\u001b[49m\u001b[38;5;124;43m\"\u001b[39;49m\u001b[38;5;124;43mencoding\u001b[39;49m\u001b[38;5;124;43m\"\u001b[39;49m\u001b[43m,\u001b[49m\u001b[43m \u001b[49m\u001b[38;5;28;43;01mNone\u001b[39;49;00m\u001b[43m)\u001b[49m\u001b[43m,\u001b[49m\n\u001b[0;32m   1222\u001b[0m \u001b[43m    \u001b[49m\u001b[43mcompression\u001b[49m\u001b[38;5;241;43m=\u001b[39;49m\u001b[38;5;28;43mself\u001b[39;49m\u001b[38;5;241;43m.\u001b[39;49m\u001b[43moptions\u001b[49m\u001b[38;5;241;43m.\u001b[39;49m\u001b[43mget\u001b[49m\u001b[43m(\u001b[49m\u001b[38;5;124;43m\"\u001b[39;49m\u001b[38;5;124;43mcompression\u001b[39;49m\u001b[38;5;124;43m\"\u001b[39;49m\u001b[43m,\u001b[49m\u001b[43m \u001b[49m\u001b[38;5;28;43;01mNone\u001b[39;49;00m\u001b[43m)\u001b[49m\u001b[43m,\u001b[49m\n\u001b[0;32m   1223\u001b[0m \u001b[43m    \u001b[49m\u001b[43mmemory_map\u001b[49m\u001b[38;5;241;43m=\u001b[39;49m\u001b[38;5;28;43mself\u001b[39;49m\u001b[38;5;241;43m.\u001b[39;49m\u001b[43moptions\u001b[49m\u001b[38;5;241;43m.\u001b[39;49m\u001b[43mget\u001b[49m\u001b[43m(\u001b[49m\u001b[38;5;124;43m\"\u001b[39;49m\u001b[38;5;124;43mmemory_map\u001b[39;49m\u001b[38;5;124;43m\"\u001b[39;49m\u001b[43m,\u001b[49m\u001b[43m \u001b[49m\u001b[38;5;28;43;01mFalse\u001b[39;49;00m\u001b[43m)\u001b[49m\u001b[43m,\u001b[49m\n\u001b[0;32m   1224\u001b[0m \u001b[43m    \u001b[49m\u001b[43mis_text\u001b[49m\u001b[38;5;241;43m=\u001b[39;49m\u001b[43mis_text\u001b[49m\u001b[43m,\u001b[49m\n\u001b[0;32m   1225\u001b[0m \u001b[43m    \u001b[49m\u001b[43merrors\u001b[49m\u001b[38;5;241;43m=\u001b[39;49m\u001b[38;5;28;43mself\u001b[39;49m\u001b[38;5;241;43m.\u001b[39;49m\u001b[43moptions\u001b[49m\u001b[38;5;241;43m.\u001b[39;49m\u001b[43mget\u001b[49m\u001b[43m(\u001b[49m\u001b[38;5;124;43m\"\u001b[39;49m\u001b[38;5;124;43mencoding_errors\u001b[39;49m\u001b[38;5;124;43m\"\u001b[39;49m\u001b[43m,\u001b[49m\u001b[43m \u001b[49m\u001b[38;5;124;43m\"\u001b[39;49m\u001b[38;5;124;43mstrict\u001b[39;49m\u001b[38;5;124;43m\"\u001b[39;49m\u001b[43m)\u001b[49m\u001b[43m,\u001b[49m\n\u001b[0;32m   1226\u001b[0m \u001b[43m    \u001b[49m\u001b[43mstorage_options\u001b[49m\u001b[38;5;241;43m=\u001b[39;49m\u001b[38;5;28;43mself\u001b[39;49m\u001b[38;5;241;43m.\u001b[39;49m\u001b[43moptions\u001b[49m\u001b[38;5;241;43m.\u001b[39;49m\u001b[43mget\u001b[49m\u001b[43m(\u001b[49m\u001b[38;5;124;43m\"\u001b[39;49m\u001b[38;5;124;43mstorage_options\u001b[39;49m\u001b[38;5;124;43m\"\u001b[39;49m\u001b[43m,\u001b[49m\u001b[43m \u001b[49m\u001b[38;5;28;43;01mNone\u001b[39;49;00m\u001b[43m)\u001b[49m\u001b[43m,\u001b[49m\n\u001b[0;32m   1227\u001b[0m \u001b[43m\u001b[49m\u001b[43m)\u001b[49m\n\u001b[0;32m   1228\u001b[0m \u001b[38;5;28;01massert\u001b[39;00m \u001b[38;5;28mself\u001b[39m\u001b[38;5;241m.\u001b[39mhandles \u001b[38;5;129;01mis\u001b[39;00m \u001b[38;5;129;01mnot\u001b[39;00m \u001b[38;5;28;01mNone\u001b[39;00m\n\u001b[0;32m   1229\u001b[0m f \u001b[38;5;241m=\u001b[39m \u001b[38;5;28mself\u001b[39m\u001b[38;5;241m.\u001b[39mhandles\u001b[38;5;241m.\u001b[39mhandle\n",
      "File \u001b[1;32m~\\anaconda3\\envs\\MLOps-dev\\lib\\site-packages\\pandas\\io\\common.py:786\u001b[0m, in \u001b[0;36mget_handle\u001b[1;34m(path_or_buf, mode, encoding, compression, memory_map, is_text, errors, storage_options)\u001b[0m\n\u001b[0;32m    781\u001b[0m \u001b[38;5;28;01melif\u001b[39;00m \u001b[38;5;28misinstance\u001b[39m(handle, \u001b[38;5;28mstr\u001b[39m):\n\u001b[0;32m    782\u001b[0m     \u001b[38;5;66;03m# Check whether the filename is to be opened in binary mode.\u001b[39;00m\n\u001b[0;32m    783\u001b[0m     \u001b[38;5;66;03m# Binary mode does not support 'encoding' and 'newline'.\u001b[39;00m\n\u001b[0;32m    784\u001b[0m     \u001b[38;5;28;01mif\u001b[39;00m ioargs\u001b[38;5;241m.\u001b[39mencoding \u001b[38;5;129;01mand\u001b[39;00m \u001b[38;5;124m\"\u001b[39m\u001b[38;5;124mb\u001b[39m\u001b[38;5;124m\"\u001b[39m \u001b[38;5;129;01mnot\u001b[39;00m \u001b[38;5;129;01min\u001b[39;00m ioargs\u001b[38;5;241m.\u001b[39mmode:\n\u001b[0;32m    785\u001b[0m         \u001b[38;5;66;03m# Encoding\u001b[39;00m\n\u001b[1;32m--> 786\u001b[0m         handle \u001b[38;5;241m=\u001b[39m \u001b[38;5;28;43mopen\u001b[39;49m\u001b[43m(\u001b[49m\n\u001b[0;32m    787\u001b[0m \u001b[43m            \u001b[49m\u001b[43mhandle\u001b[49m\u001b[43m,\u001b[49m\n\u001b[0;32m    788\u001b[0m \u001b[43m            \u001b[49m\u001b[43mioargs\u001b[49m\u001b[38;5;241;43m.\u001b[39;49m\u001b[43mmode\u001b[49m\u001b[43m,\u001b[49m\n\u001b[0;32m    789\u001b[0m \u001b[43m            \u001b[49m\u001b[43mencoding\u001b[49m\u001b[38;5;241;43m=\u001b[39;49m\u001b[43mioargs\u001b[49m\u001b[38;5;241;43m.\u001b[39;49m\u001b[43mencoding\u001b[49m\u001b[43m,\u001b[49m\n\u001b[0;32m    790\u001b[0m \u001b[43m            \u001b[49m\u001b[43merrors\u001b[49m\u001b[38;5;241;43m=\u001b[39;49m\u001b[43merrors\u001b[49m\u001b[43m,\u001b[49m\n\u001b[0;32m    791\u001b[0m \u001b[43m            \u001b[49m\u001b[43mnewline\u001b[49m\u001b[38;5;241;43m=\u001b[39;49m\u001b[38;5;124;43m\"\u001b[39;49m\u001b[38;5;124;43m\"\u001b[39;49m\u001b[43m,\u001b[49m\n\u001b[0;32m    792\u001b[0m \u001b[43m        \u001b[49m\u001b[43m)\u001b[49m\n\u001b[0;32m    793\u001b[0m     \u001b[38;5;28;01melse\u001b[39;00m:\n\u001b[0;32m    794\u001b[0m         \u001b[38;5;66;03m# Binary mode\u001b[39;00m\n\u001b[0;32m    795\u001b[0m         handle \u001b[38;5;241m=\u001b[39m \u001b[38;5;28mopen\u001b[39m(handle, ioargs\u001b[38;5;241m.\u001b[39mmode)\n",
      "\u001b[1;31mFileNotFoundError\u001b[0m: [Errno 2] No such file or directory: '../data/raw/california_housing_0.csv'"
     ]
    }
   ],
   "source": [
    "data = pd.read_csv(data_path)"
   ]
  },
  {
   "cell_type": "markdown",
   "id": "e9e18c88-b0a6-4d3c-8048-2fc103929a20",
   "metadata": {
    "id": "e9e18c88-b0a6-4d3c-8048-2fc103929a20"
   },
   "source": [
    "### Data Exploration"
   ]
  },
  {
   "cell_type": "code",
   "execution_count": null,
   "id": "faf22828-67a0-4b0a-a53c-f5723ef6a5fe",
   "metadata": {
    "id": "faf22828-67a0-4b0a-a53c-f5723ef6a5fe",
    "outputId": "9bfa7428-3d2a-4495-ed28-fe2f5519be85"
   },
   "outputs": [],
   "source": [
    "data.head()"
   ]
  },
  {
   "cell_type": "code",
   "execution_count": null,
   "id": "1343fdeb-352b-4810-a562-a533071f2ab7",
   "metadata": {
    "id": "1343fdeb-352b-4810-a562-a533071f2ab7",
    "outputId": "361e36fd-badc-4381-e2cf-0b3809a434ec"
   },
   "outputs": [],
   "source": [
    "data.shape"
   ]
  },
  {
   "cell_type": "code",
   "execution_count": null,
   "id": "a7a9343f-a297-402e-9f04-ca8b85e11806",
   "metadata": {
    "id": "a7a9343f-a297-402e-9f04-ca8b85e11806",
    "outputId": "7f68f167-a177-4148-9715-26a6bf12b5c2"
   },
   "outputs": [],
   "source": [
    "data.isna().sum()"
   ]
  },
  {
   "cell_type": "markdown",
   "id": "a9d67bf6-d180-43f7-a6db-4c41f391a169",
   "metadata": {
    "id": "a9d67bf6-d180-43f7-a6db-4c41f391a169"
   },
   "source": [
    "### Data Cleaning"
   ]
  },
  {
   "cell_type": "code",
   "execution_count": null,
   "id": "feda63e6-9767-43db-9d6a-bac0d508b8bc",
   "metadata": {
    "id": "feda63e6-9767-43db-9d6a-bac0d508b8bc"
   },
   "outputs": [],
   "source": [
    "data = data.drop(columns=\"total_bedrooms\")"
   ]
  },
  {
   "cell_type": "markdown",
   "id": "73bd9500-ddbf-41d7-8e7c-c3f7b58361df",
   "metadata": {
    "id": "73bd9500-ddbf-41d7-8e7c-c3f7b58361df"
   },
   "source": [
    "### Train-Test Split"
   ]
  },
  {
   "cell_type": "code",
   "execution_count": null,
   "id": "be0e4409-5b47-4fac-bb4d-e4efa2a56868",
   "metadata": {
    "id": "be0e4409-5b47-4fac-bb4d-e4efa2a56868"
   },
   "outputs": [],
   "source": [
    "data_train, data_test = train_test_split(data, test_size=0.33, random_state=0)"
   ]
  },
  {
   "cell_type": "code",
   "execution_count": null,
   "id": "46e5b8ae-edba-4975-8d04-7d04918734ce",
   "metadata": {
    "id": "46e5b8ae-edba-4975-8d04-7d04918734ce",
    "outputId": "6b774da5-af2b-4318-e0f8-9df416637a2d"
   },
   "outputs": [],
   "source": [
    "data_train.shape, data_test.shape"
   ]
  },
  {
   "cell_type": "code",
   "execution_count": null,
   "id": "c0b7b425-a427-420c-ae80-6e785711323b",
   "metadata": {
    "id": "c0b7b425-a427-420c-ae80-6e785711323b"
   },
   "outputs": [],
   "source": [
    "# # Select X and y values (predictor and outcome)\n",
    "X_train = data_train.drop(columns=\"median_house_value\")\n",
    "y_train = data_train[\"median_house_value\"]"
   ]
  },
  {
   "cell_type": "code",
   "execution_count": null,
   "id": "3fe9a09f-db84-428c-85b5-92740a57ac74",
   "metadata": {
    "id": "3fe9a09f-db84-428c-85b5-92740a57ac74"
   },
   "outputs": [],
   "source": [
    "X_test = data_test.drop(columns=\"median_house_value\")\n",
    "y_test = data_test[\"median_house_value\"]"
   ]
  },
  {
   "cell_type": "code",
   "execution_count": null,
   "id": "82dde063-87fa-4b9f-a7d5-cfe2b3d246d9",
   "metadata": {
    "id": "82dde063-87fa-4b9f-a7d5-cfe2b3d246d9",
    "outputId": "e26f656a-501b-4d89-ef32-95dae2e789c3"
   },
   "outputs": [],
   "source": [
    "X_train.shape, X_test.shape"
   ]
  },
  {
   "cell_type": "markdown",
   "id": "a1e02185-d70b-42b7-9e4b-eb4e1176f986",
   "metadata": {
    "id": "a1e02185-d70b-42b7-9e4b-eb4e1176f986"
   },
   "source": [
    "<a id='P2' name=\"P2\"></a>\n",
    "## [Modelling](#P0)"
   ]
  },
  {
   "cell_type": "markdown",
   "id": "1506d07a-3191-453e-807d-f84ad419dfde",
   "metadata": {
    "id": "1506d07a-3191-453e-807d-f84ad419dfde"
   },
   "source": [
    "### Pipeline Definition"
   ]
  },
  {
   "cell_type": "code",
   "execution_count": null,
   "id": "ecaf779e-af7a-4e31-81bd-32b9a19d1d18",
   "metadata": {
    "id": "ecaf779e-af7a-4e31-81bd-32b9a19d1d18"
   },
   "outputs": [],
   "source": [
    "sc = StandardScaler()\n",
    "lin_reg = LinearRegression()\n",
    "pipeline_mlr = Pipeline([(\"data_scaling\", sc), (\"estimator\", lin_reg)])"
   ]
  },
  {
   "cell_type": "markdown",
   "id": "e61803d3-bd2c-4b8c-86e4-a0b57a529295",
   "metadata": {
    "id": "e61803d3-bd2c-4b8c-86e4-a0b57a529295"
   },
   "source": [
    "### Model Fit"
   ]
  },
  {
   "cell_type": "code",
   "execution_count": null,
   "id": "6c2bcf20-b11f-4c08-919e-514cfe3feef8",
   "metadata": {
    "id": "6c2bcf20-b11f-4c08-919e-514cfe3feef8",
    "outputId": "85f2bc26-4bc9-49ff-8a01-8a10accc0d8d"
   },
   "outputs": [],
   "source": [
    "pipeline_mlr.fit(X_train, y_train)"
   ]
  },
  {
   "cell_type": "markdown",
   "id": "6aa262e4-2623-4e58-ac95-874374cc4173",
   "metadata": {
    "id": "6aa262e4-2623-4e58-ac95-874374cc4173"
   },
   "source": [
    "<a id='P3' name=\"P3\"></a>\n",
    "## [Model Evaluation](#P0)"
   ]
  },
  {
   "cell_type": "code",
   "execution_count": null,
   "id": "86afc9d4-a151-46e3-b4ea-beb0e1d1a2ee",
   "metadata": {
    "id": "86afc9d4-a151-46e3-b4ea-beb0e1d1a2ee"
   },
   "outputs": [],
   "source": [
    "predictions_mlr = pipeline_mlr.predict(X_test)"
   ]
  },
  {
   "cell_type": "code",
   "execution_count": null,
   "id": "28e7ad53-1113-4486-8388-e86e2498fdf6",
   "metadata": {
    "id": "28e7ad53-1113-4486-8388-e86e2498fdf6",
    "outputId": "5794ff17-eaba-431f-fe23-35a0ef61cff4"
   },
   "outputs": [],
   "source": [
    "# Test score\n",
    "pipeline_mlr.score(X_test, y_test)"
   ]
  },
  {
   "cell_type": "code",
   "execution_count": null,
   "id": "3eceb817-d059-47d5-a872-d6fead03dd8c",
   "metadata": {
    "id": "3eceb817-d059-47d5-a872-d6fead03dd8c",
    "outputId": "1b009981-0737-4173-df0f-9d5fd9b66aa5"
   },
   "outputs": [],
   "source": [
    "print(\"MAE\", metrics.mean_absolute_error(y_test, predictions_mlr))\n",
    "print(\"MSE\", metrics.mean_squared_error(y_test, predictions_mlr))\n",
    "print(\"RMSE\", np.sqrt(metrics.mean_squared_error(y_test, predictions_mlr)))\n",
    "print(\"Explained Var Score\", metrics.explained_variance_score(y_test, predictions_mlr))"
   ]
  },
  {
   "cell_type": "markdown",
   "id": "6827877a-f9cf-456e-93cc-613f90720da8",
   "metadata": {
    "id": "6827877a-f9cf-456e-93cc-613f90720da8",
    "tags": [
     "livecode"
    ]
   },
   "source": [
    "<a id='CL'></a>\n",
    "## [Conclusion](#P0)\n",
    "\n",
    "This Notebook Shows a simple modelling experiment. We will use this base for building our machine Learning Project."
   ]
  },
  {
   "cell_type": "markdown",
   "id": "981c1a62-b47f-4286-91de-3962dd527cb3",
   "metadata": {
    "id": "981c1a62-b47f-4286-91de-3962dd527cb3"
   },
   "source": [
    "<div style=\"border-top:0.1cm solid #EF475B\"></div>\n",
    "    <strong><a href='#Q0'><div style=\"text-align: right\"> <h3>End of this Notebook.</h3></div></a></strong>"
   ]
  }
 ],
 "metadata": {
  "colab": {
   "collapsed_sections": [],
   "name": "MLE_D1_LC1_California_Prediction.ipynb",
   "provenance": []
  },
  "kernelspec": {
   "display_name": "MLOps-dev",
   "language": "python",
   "name": "mlops-dev"
  },
  "language_info": {
   "codemirror_mode": {
    "name": "ipython",
    "version": 3
   },
   "file_extension": ".py",
   "mimetype": "text/x-python",
   "name": "python",
   "nbconvert_exporter": "python",
   "pygments_lexer": "ipython3",
   "version": "3.10.4"
  }
 },
 "nbformat": 4,
 "nbformat_minor": 5
}
